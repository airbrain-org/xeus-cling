{
 "cells": [
  {
   "cell_type": "markdown",
   "metadata": {},
   "source": [
    "# Why boost::phoenix?\n",
    "## &#9658; Supports \"Functional Programming\"\n",
    "## &#9658; Okay, but what is \"Functional Programming\""
   ]
  },
  {
   "cell_type": "markdown",
   "metadata": {},
   "source": [
    "# Why Functional Programming\n",
    "## &#9658; Style of programming that encourages statelessness\n",
    "## &#9658; Code produces the same output for a given input\n",
    "## &#9658; \"Referentially Transparent\": Code can be replaced by its output\n",
    "## &#9658; Output fully encapsulates the operations of the underlying code "
   ]
  },
  {
   "cell_type": "markdown",
   "metadata": {},
   "source": [
    "## &#9658; Primary means of writing Functional Code is the function\n",
    "## &#9658; Writing stateless code improves overall stability and concurrency\n",
    "## &#9658; Easier to debug\n",
    "### For example:"
   ]
  },
  {
   "cell_type": "markdown",
   "metadata": {},
   "source": [
    "# Imperative Style"
   ]
  },
  {
   "cell_type": "code",
   "execution_count": 1,
   "metadata": {},
   "outputs": [
    {
     "name": "stdout",
     "output_type": "stream",
     "text": [
      "average score: 6"
     ]
    }
   ],
   "source": [
    "// Define vector of scores, used throughout this presentation.\n",
    "const std::vector<int> scores{4, 6, 3, 7, 10};\n",
    "\n",
    "int sum = 0;\n",
    "for (int score : scores) \n",
    "{\n",
    "    sum += score;\n",
    "}\n",
    "\n",
    "std::cout << \"average score: \" << sum / (double)scores.size();"
   ]
  },
  {
   "cell_type": "markdown",
   "metadata": {},
   "source": [
    "# Functional Style"
   ]
  },
  {
   "cell_type": "code",
   "execution_count": 2,
   "metadata": {},
   "outputs": [
    {
     "name": "stdout",
     "output_type": "stream",
     "text": [
      "average score: 6"
     ]
    }
   ],
   "source": [
    "std::cout << \"average score: \" << std::accumulate(scores.begin(), scores.end(), 0) / (double)scores.size();"
   ]
  },
  {
   "cell_type": "markdown",
   "metadata": {},
   "source": [
    "# Back to boost::phoenix\n",
    "## &#9658; Supports functional programming with function objects\n",
    "## &#9658; Overloads the operator()\n",
    "## &#9658; Has the attributes of objects, while still being callable"
   ]
  },
  {
   "cell_type": "markdown",
   "metadata": {},
   "source": [
    "# Without boost::phoenix..."
   ]
  },
  {
   "cell_type": "code",
   "execution_count": 3,
   "metadata": {},
   "outputs": [
    {
     "name": "stdout",
     "output_type": "stream",
     "text": [
      "2"
     ]
    }
   ],
   "source": [
    "#include <vector>\n",
    "#include <algorithm>\n",
    "#include <iostream>\n",
    "\n",
    "bool is_odd(int i) { return i % 2 == 1; }\n",
    "\n",
    "// Count the number of odds in the scores using a simple function.\n",
    "std::cout << std::count_if(scores.begin(), scores.end(), is_odd);"
   ]
  },
  {
   "cell_type": "code",
   "execution_count": 4,
   "metadata": {},
   "outputs": [
    {
     "name": "stdout",
     "output_type": "stream",
     "text": [
      "2"
     ]
    }
   ],
   "source": [
    "auto lambda = [](int i){ return i % 2 == 1; };\n",
    "\n",
    "// Count the number of odds using a lambda expression.\n",
    "std::cout << std::count_if(scores.begin(), scores.end(), lambda);"
   ]
  },
  {
   "cell_type": "markdown",
   "metadata": {},
   "source": [
    "# With boost::phoenix..."
   ]
  },
  {
   "cell_type": "code",
   "execution_count": 5,
   "metadata": {},
   "outputs": [
    {
     "name": "stdout",
     "output_type": "stream",
     "text": [
      "2"
     ]
    }
   ],
   "source": [
    "#include <boost/phoenix/phoenix.hpp>\n",
    "using namespace boost::phoenix::placeholders;\n",
    "using namespace boost::phoenix;\n",
    "\n",
    "// Define a phoenix function object that accepts one value and uses the modulo operator to determine \n",
    "// if the value is evenly divisible by two.\n",
    "auto phoenix = arg1 % 2 == 1;\n",
    "std::cout << std::count_if(scores.begin(), scores.end(), phoenix);"
   ]
  },
  {
   "cell_type": "markdown",
   "metadata": {},
   "source": [
    "# Phoenix Functions\n",
    "## &#9658; boost::phoenix::placeholders::arg1, consists only of a function body\n",
    "## &#9658; &#9658; arg1 global instance of a unary function object\n",
    "## &#9658; &#9658; Placeholder for the value passed\n",
    "## &#9658; Other placeholders are available\n",
    "## &#9658; &#9658; boost::phoenix::placeholders::arg2, boost::phoenix::placeholders::arg3"
   ]
  },
  {
   "cell_type": "markdown",
   "metadata": {},
   "source": [
    "# Phoenix Functions vs. Lambdas\n",
    "## &#9658; No data types required\n",
    "### For example:"
   ]
  },
  {
   "cell_type": "code",
   "execution_count": 6,
   "metadata": {},
   "outputs": [
    {
     "name": "stdout",
     "output_type": "stream",
     "text": [
      "2"
     ]
    }
   ],
   "source": [
    "// Define a lambda function that calculates the total number of odd scores of type integer.\n",
    "auto lambda_for_ints = [](int i){ return i % 2 == 1; };\n",
    "std::cout << std::count_if(scores.begin(), scores.end(), lambda_for_ints);"
   ]
  },
  {
   "cell_type": "code",
   "execution_count": 7,
   "metadata": {},
   "outputs": [
    {
     "name": "stdout",
     "output_type": "stream",
     "text": [
      "2\n",
      "2\n"
     ]
    }
   ],
   "source": [
    "const std::vector<long> long_scores{4, 6, 3, 7, 10};\n",
    "\n",
    "// Same phoenix function defined above will work with this new long vector.\n",
    "std::cout << std::count_if(long_scores.begin(), long_scores.end(), phoenix) << std::endl;\n",
    "\n",
    "// And also works with the vector of integer scores.\n",
    "std::cout << std::count_if(scores.begin(), scores.end(), phoenix) << std::endl;\n"
   ]
  },
  {
   "cell_type": "markdown",
   "metadata": {},
   "source": [
    "# Deferred Execution of Phoenix Functions\n",
    "## &#9658; val() returns a function object initialized with the value specified\n",
    "## &#9658; Phoenix overloads operators for value types\n",
    "## &#9658; Functions are not evaluated until they are referenced"
   ]
  },
  {
   "cell_type": "code",
   "execution_count": 8,
   "metadata": {},
   "outputs": [
    {
     "name": "stdout",
     "output_type": "stream",
     "text": [
      "2\n"
     ]
    }
   ],
   "source": [
    "using namespace boost::phoenix::placeholders;\n",
    "using namespace boost::phoenix;\n",
    "\n",
    "// Define a Phoenix function that combines multiple operators, with deferred execution.\n",
    "auto phoenix_deferred = arg1 > val(2) && arg1 % val(2) == val(1);\n",
    "std::cout << std::count_if(scores.begin(), scores.end(), phoenix) << std::endl;"
   ]
  },
  {
   "cell_type": "code",
   "execution_count": 9,
   "metadata": {},
   "outputs": [
    {
     "name": "stdout",
     "output_type": "stream",
     "text": [
      "1\n",
      "2\n",
      "3\n"
     ]
    }
   ],
   "source": [
    "// To demonstrate how arg1, arg2, and arg3 work, the specified entry in the list is returned.\n",
    "std::cout << arg1(1, 2, 3, 4, 5) << std::endl;\n",
    "std::cout << arg2(1, 2, 3, 4, 5) << std::endl;\n",
    "std::cout << arg3(1, 2, 3, 4, 5) << std::endl;"
   ]
  },
  {
   "cell_type": "code",
   "execution_count": 10,
   "metadata": {},
   "outputs": [
    {
     "name": "stdout",
     "output_type": "stream",
     "text": [
      "2\n"
     ]
    }
   ],
   "source": [
    "using namespace boost::phoenix::placeholders;\n",
    "using namespace boost::phoenix;\n",
    "\n",
    "// Create function object with constant value.\n",
    "auto v = val(2);\n",
    "\n",
    "// When accessed as a function, the function object always returns the value provided in the initializer\n",
    "std::cout << v() << std::endl;"
   ]
  },
  {
   "cell_type": "markdown",
   "metadata": {},
   "source": [
    "# How to Create Your Own Phoenix Functions\n",
    "## &#9658; Pass a function object to the template boost::phoenix::function\n",
    "## &#9658; Must define a type called \"result_type\"\n",
    "### For example:"
   ]
  },
  {
   "cell_type": "code",
   "execution_count": 11,
   "metadata": {},
   "outputs": [
    {
     "name": "stdout",
     "output_type": "stream",
     "text": [
      "2\n"
     ]
    }
   ],
   "source": [
    "// Define an object with an operator that determines if the value is odd.\n",
    "// Also, define type \"result_type\" to allows Phoenix to know the return data type.\n",
    "struct is_odd_impl\n",
    "{\n",
    "    typedef bool result_type;\n",
    "\n",
    "    template <typename T>\n",
    "        bool operator()(T t) const { return t % 2 == 1; }\n",
    "};\n",
    "\n",
    "// Declare the phoenix function for use later.\n",
    "boost::phoenix::function<is_odd_impl> is_odd_from_object;\n",
    "\n",
    "// Use the function to evaluate each score in the vector.\n",
    "using namespace boost::phoenix::placeholders;\n",
    "std::cout << std::count_if(scores.begin(), scores.end(), is_odd_from_object(arg1)) << std::endl;"
   ]
  },
  {
   "cell_type": "markdown",
   "metadata": {},
   "source": [
    "## &#9658; Also possible to convert function into a Phoenix function\n",
    "### For example:"
   ]
  },
  {
   "cell_type": "code",
   "execution_count": 12,
   "metadata": {},
   "outputs": [],
   "source": [
    "// Define the function (not part of an object) that will be converted to a Phoenix function.\n",
    "bool is_odd_function(int i) { return i % 2 == 1; }"
   ]
  },
  {
   "cell_type": "code",
   "execution_count": 13,
   "metadata": {},
   "outputs": [
    {
     "name": "stderr",
     "output_type": "stream",
     "text": [
      "input_line_22:7:1: error: namespaces can only be defined in global or namespace scope\n",
      "BOOST_PHOENIX_ADAPT_FUNCTION(bool, is_odd_phoenix, is_odd_function, 1);\n",
      "^\n",
      "/usr/local/include/boost/phoenix/function/adapt_function.hpp:45:5: note: expanded from macro 'BOOST_PHOENIX_ADAPT_FUNCTION'\n",
      "    {                                                                           \\\n",
      "    ^\n",
      "input_line_22:7:1: error: expected expression\n",
      "/usr/local/include/boost/phoenix/function/adapt_function.hpp:64:5: note: expanded from macro 'BOOST_PHOENIX_ADAPT_FUNCTION'\n",
      "    template <BOOST_PHOENIX_typename_A(N)>                                      \\\n",
      "    ^\n"
     ]
    }
   ],
   "source": [
    "#include <boost/phoenix/phoenix.hpp>\n",
    "\n",
    "// Make the function into a Phoenix function: \n",
    "// parm1 - return type\n",
    "// parm2 - name of the Phoenix function\n",
    "// parm3 - name of the standard function\n",
    "// parm4 - number of parameters\n",
    "BOOST_PHOENIX_ADAPT_FUNCTION(bool, is_odd_phoenix, is_odd_function, 1);\n"
   ]
  },
  {
   "cell_type": "code",
   "execution_count": 14,
   "metadata": {},
   "outputs": [
    {
     "name": "stderr",
     "output_type": "stream",
     "text": [
      "input_line_23:5:58: error: use of undeclared identifier 'is_odd_phoenix'\n",
      "std::cout << std::count_if(scores.begin(), scores.end(), is_odd_phoenix(arg1)) << std::endl;\n",
      "                                                         ^\n"
     ]
    }
   ],
   "source": [
    "using namespace boost::phoenix;\n",
    "using namespace boost::phoenix::placeholders;\n",
    "\n",
    "// Use the Phoenix function created above:\n",
    "std::cout << std::count_if(scores.begin(), scores.end(), is_odd_phoenix(arg1)) << std::endl;"
   ]
  },
  {
   "cell_type": "markdown",
   "metadata": {},
   "source": [
    "# Phoenix Functions Simulating C++ Keywords\n",
    "## &#9658; If the condition is true, code in brackets is executed\n",
    "### For example:"
   ]
  },
  {
   "cell_type": "code",
   "execution_count": 15,
   "metadata": {},
   "outputs": [
    {
     "name": "stdout",
     "output_type": "stream",
     "text": [
      "2\n"
     ]
    }
   ],
   "source": [
    "using namespace boost::phoenix;  \n",
    "using namespace boost::phoenix::placeholders;\n",
    "\n",
    "int count = 0;\n",
    "std::for_each(scores.begin(), scores.end(), \n",
    "    // Define the function object using the Phoenix if_ object.\n",
    "    if_(arg1 > 2 && arg1 % 2 == 1)\n",
    "    [\n",
    "      ++ref(count)\n",
    "    ]);\n",
    "std::cout << count << std::endl;"
   ]
  },
  {
   "cell_type": "markdown",
   "metadata": {},
   "source": [
    "# References"
   ]
  },
  {
   "cell_type": "markdown",
   "metadata": {},
   "source": [
    "Tutorial:\n",
    "https://theboostcpplibraries.com/boost.phoenix\n",
    "    \n",
    "Docker Image with Boost::Phoenix support:\n",
    "https://cloud.docker.com/u/jywilson/repository/docker/jywilson/xeus-cling\n",
    "    \n",
    "    \n",
    "Referential Transparency:\n",
    "https://www.sitepoint.com/what-is-referential-transparency/\n",
    "\n",
    "\n"
   ]
  },
  {
   "cell_type": "code",
   "execution_count": null,
   "metadata": {},
   "outputs": [],
   "source": []
  }
 ],
 "metadata": {
  "kernelspec": {
   "display_name": "xeus C++14",
   "language": "",
   "name": "xeus-cling-cpp14"
  },
  "language_info": {
   "codemirror_mode": "text/x-c++src",
   "file_extension": ".cpp",
   "mimetype": "text/x-c++src",
   "name": "c++",
   "version": ""
  }
 },
 "nbformat": 4,
 "nbformat_minor": 2
}
