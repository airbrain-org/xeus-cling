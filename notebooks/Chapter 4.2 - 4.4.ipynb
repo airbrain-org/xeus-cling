{
 "cells": [
  {
   "cell_type": "markdown",
   "metadata": {},
   "source": [
    "# Section 4.2: Currying: a different way to look at functions\n",
    "## * Named after Haskell Curry, a mathematician and logician who perfected this concept from the ideas first introduced by Gottlob Frege and Moses Schönfinkel\n",
    "## * Alternative to \"partial function application\" covered in the previous section\n",
    "## * Create unary functions that return reference to other unary functions for each parameter required by the higher level function."
   ]
  },
  {
   "cell_type": "code",
   "execution_count": 2,
   "metadata": {},
   "outputs": [],
   "source": [
    "// greater : (double, double) → bool\n",
    "bool greater(double first, double second)\n",
    "{\n",
    "    return first > second;\n",
    "}"
   ]
  },
  {
   "cell_type": "code",
   "execution_count": 3,
   "metadata": {},
   "outputs": [],
   "source": [
    "// greater_curried : double → (double → bool)\n",
    "auto greater_curried(double first)\n",
    "{    \n",
    "    return [first](double second) { return first > second; };\n",
    "}"
   ]
  },
  {
   "cell_type": "code",
   "execution_count": 4,
   "metadata": {},
   "outputs": [
    {
     "name": "stdout",
     "output_type": "stream",
     "text": [
      "0\n"
     ]
    }
   ],
   "source": [
    "// Invocation:\n",
    "#include <iostream>\n",
    "\n",
    "// Returns false\n",
    "std::cout << greater(2, 3) << std::endl;"
   ]
  },
  {
   "cell_type": "code",
   "execution_count": 7,
   "metadata": {},
   "outputs": [],
   "source": [
    "// Returns a unary function object that checks whether its argument is less than 2\n",
    "greater_curried(2);"
   ]
  },
  {
   "cell_type": "code",
   "execution_count": 8,
   "metadata": {},
   "outputs": [
    {
     "name": "stdout",
     "output_type": "stream",
     "text": [
      "0\n"
     ]
    }
   ],
   "source": [
    "// Returns false\n",
    "std::cout << greater_curried(2)(3) << std::endl;"
   ]
  },
  {
   "cell_type": "markdown",
   "metadata": {},
   "source": [
    "![Figure 4.9](figure_4.9.png)"
   ]
  },
  {
   "cell_type": "code",
   "execution_count": null,
   "metadata": {},
   "outputs": [],
   "source": [
    "auto print_person_cd(const person_t& person)\n",
    "{    \n",
    "    return [&](std::ostream& out) \n",
    "    {        \n",
    "        return [&](person_t::output_format_t format) \n",
    "        {            \n",
    "            print_person(person, out, format);        \n",
    "        };    \n",
    "    };\n",
    "}"
   ]
  },
  {
   "cell_type": "markdown",
   "metadata": {},
   "source": [
    "![Figure 4.10](figure_4.10.png)"
   ]
  },
  {
   "cell_type": "markdown",
   "metadata": {},
   "source": [
    "# Writing code like this is tedious.\n",
    "## * Use a helper function to convert any function into it's curried version.\n"
   ]
  },
  {
   "cell_type": "code",
   "execution_count": null,
   "metadata": {},
   "outputs": [],
   "source": [
    "using std::cout;\n",
    "\n",
    "auto print_person_cd = make_curried(print_person);\n",
    "\n",
    "// All of these write Martha's name and surname to the standard output.\n",
    "print_person_cd(martha, cout, person_t::full_name); \n",
    "print_person_cd(martha)(cout, person_t::full_name);\n",
    "print_person_cd(martha, cout)(person_t::full_name);\n",
    "print_person_cd(martha)(cout)(person_t::full_name);\n",
    "\n",
    "// Returns a function object that will *only* print Martha's name to standard output.\n",
    "auto print_martha = print_person_cd(martha);\n",
    "print_martha(cout, person_t::name_only);\n",
    "\n",
    "// Returns a function object that will print some amount of Martha's information to standard output.\n",
    "auto print_martha_to_cout = print_person_cd(martha, cout);\n",
    "print_martha_to_cout(person_t::name_only);"
   ]
  },
  {
   "cell_type": "markdown",
   "metadata": {},
   "source": [
    "# Considering a real world example\n",
    "## * Using currying with database access\n",
    "## * With currying it's possible to create funtions that are composable without overloading"
   ]
  },
  {
   "cell_type": "code",
   "execution_count": null,
   "metadata": {},
   "outputs": [],
   "source": [
    "auto table  = \"Movies\";\n",
    "auto filter = \"Name = \\\"Sintel\\\"\";\n",
    "\n",
    "// Uses the query function as a normal function by passing all required \n",
    "// arguments to it and getting a list of query results directly\n",
    "results = query(local_connection, session,\n",
    "                            table, filter);\n",
    "\n",
    "// Creates separate functions that are tied to their respective database \n",
    "// connections. This is useful when you often use the same connection \n",
    "// over and over.\n",
    "auto local_query = query(local_connection);\n",
    "auto remote_query = query(remote_connection);\n",
    "\n",
    "    ...\n",
    "    \n",
    "results = local_query(session, table, filter);\n",
    "\n",
    "// When you need only a single connection and a single session, you can \n",
    "// create a function that binds these two values so that you can omit \n",
    "// them in the rest of the program.\n",
    "auto main_query = query(local_connection,\n",
    "                            main_session);\n",
    "   ...\n",
    "    \n",
    "results = main_query(table, filter);\n",
    "\n",
    "// If you often perform queries over the same table, \n",
    "// you can create a function that always queries that table\n",
    "auto movies_query = main_query(table);\n",
    "\n",
    "    ... \n",
    "        \n",
    "results = movies_query(filter);"
   ]
  },
  {
   "cell_type": "markdown",
   "metadata": {},
   "source": [
    "## * Assume that make_curried() has been used to create the above functions\n",
    "## * Users can now create the functions they need\n",
    "## * A single implementation of the function (now curried) can provide all of the functional variations\n",
    "## * The above statement assumes that the parameters ordering does not vary"
   ]
  },
  {
   "cell_type": "markdown",
   "metadata": {},
   "source": [
    "# Comparing std::bind() to currying"
   ]
  },
  {
   "cell_type": "code",
   "execution_count": null,
   "metadata": {},
   "outputs": [],
   "source": [
    "// Binds only the connection argument to the local query.\n",
    "auto local_query = query(local_connection);\n",
    "\n",
    "// You can bind the first argument, but you aren’t required to. You can bind just the second one.\n",
    "auto local_query = std::bind(query, local_connection, _1, _2, _3);\n",
    "auto session_query = std::bind(query, _1, main_session, _2, _3);"
   ]
  },
  {
   "cell_type": "markdown",
   "metadata": {},
   "source": [
    "# std::bind() is more flexible but requires that all arguments be accounted for"
   ]
  },
  {
   "cell_type": "code",
   "execution_count": null,
   "metadata": {},
   "outputs": [],
   "source": [
    "// With currying, however, you simply create a new function object with the required parameters.\n",
    "auto local_query  = query(local_connection);\n",
    "auto local_update = update(local_connection);"
   ]
  },
  {
   "cell_type": "code",
   "execution_count": null,
   "metadata": {},
   "outputs": [],
   "source": [
    "// With std::bind() you would need to create a function template for the local connection.\n",
    "template <typename Function> \n",
    "auto for_local_connection(Function f) \n",
    "{    \n",
    "    return f(local_connection);\n",
    "}\n",
    "\n",
    "auto local_query = for_local_connection(query);\n",
    "auto local_update = for_local_connection(update);\n",
    "auto local_delete = for_local_connection(delete);"
   ]
  },
  {
   "cell_type": "markdown",
   "metadata": {},
   "source": [
    "## * Partial function application is useful when a function is needed with specific arguments to bind.\n",
    "## * Currying is useful in more generic contexts with any number of arguments."
   ]
  },
  {
   "cell_type": "markdown",
   "metadata": {},
   "source": [
    "# 4.3 Demonstrating functional composibility"
   ]
  },
  {
   "cell_type": "code",
   "execution_count": null,
   "metadata": {},
   "outputs": [],
   "source": [
    "tr -cs A-Za-z '\\n' |    \n",
    "    tr A-Z a-z |    \n",
    "    sort |    \n",
    "    uniq -c |    \n",
    "    sort -rn |    \n",
    "    sed ${1}q"
   ]
  },
  {
   "cell_type": "markdown",
   "metadata": {},
   "source": [
    "![Figure 4.12](figure_4.12.png)"
   ]
  },
  {
   "cell_type": "markdown",
   "metadata": {},
   "source": [
    "## * Create five functions:"
   ]
  },
  {
   "cell_type": "code",
   "execution_count": null,
   "metadata": {},
   "outputs": [],
   "source": [
    "// Receive a string and return a collection of words: std::vector<std::string>\n",
    "std::vector<std::string> words(const std::string& text);"
   ]
  },
  {
   "cell_type": "code",
   "execution_count": null,
   "metadata": {},
   "outputs": [],
   "source": [
    "// Receive a collection of words, and return a map of the words and the number of times it appears in the text.\n",
    "template <typename T>\n",
    "std::unordered_map<T, unsigned int> count_occurrences(\n",
    "    const std::vector<T>& items);\n",
    "\n",
    "// The type of the contained items could also be template-ized:\n",
    "template <typename C, typename T = typename C::value_type>\n",
    "std::unordered_map<T, unsigned int> count_occurrences(\n",
    "    const C& collection);"
   ]
  },
  {
   "cell_type": "code",
   "execution_count": null,
   "metadata": {},
   "outputs": [],
   "source": [
    "// Takes each pair of values from the container and creates a new pair with the values reversed\n",
    "// to that it can be sorted later. Values are returned as a vector.\n",
    "template <typename C,\n",
    "          typename P1,\n",
    "          typename P2>\n",
    "std::vector<std::pair<P2, P1>> reverse_pairs(\n",
    "        const C& collection);"
   ]
  },
  {
   "cell_type": "code",
   "execution_count": null,
   "metadata": {},
   "outputs": [],
   "source": [
    "// Sort the vector by frequency and print to the standard output, combining with the previous functions.\n",
    "void print_common_words(const std::string& text)\n",
    "{    \n",
    "    return print_pairs(\n",
    "        sort_by_frequency(\n",
    "            reverse_pairs(\n",
    "                count_occurrences(\n",
    "                    words(text)\n",
    "                )\n",
    "            )\n",
    "        )\n",
    "    );\n",
    "}"
   ]
  },
  {
   "cell_type": "markdown",
   "metadata": {},
   "source": [
    "# Demonstrates how code written in the imperative style can be split into a few simple functions."
   ]
  },
  {
   "cell_type": "markdown",
   "metadata": {},
   "source": [
    "# 4.4 Function lifting, revisited"
   ]
  },
  {
   "cell_type": "code",
   "execution_count": null,
   "metadata": {},
   "outputs": [],
   "source": [
    "// Collection of functions that operate on strings:\n",
    "\n",
    "void pointer_to_upper(std::string* str)    ①  \n",
    "{    ①      \n",
    "    if (str) to_upper(*str);    ①  \n",
    "}    ①  \n",
    "\n",
    "void vector_to_upper(std::vector<std::string>& strs)    ②  \n",
    "{    ②      \n",
    "    for (auto& str : strs) {    ②          \n",
    "        to_upper(str);    ②      \n",
    "    }    ②  \n",
    "}    ②  \n",
    "\n",
    "void map_to_upper(std::map<int, std::string>& strs)    ③  \n",
    "{    ③      \n",
    "    for (auto& pair : strs) {    ③\n",
    "        to_upper(pair.second);    ③      \n",
    "    }    ③  \n",
    "}"
   ]
  },
  {
   "cell_type": "markdown",
   "metadata": {},
   "source": [
    "# Function Lifting: \"Lifts\" the function that operates on a particular type to a struture or a collection containing the same type"
   ]
  },
  {
   "cell_type": "code",
   "execution_count": null,
   "metadata": {},
   "outputs": [],
   "source": [
    "// Using auto as the type specifier to allow the function to be used with pointers to \n",
    "// any type, not just strings.\n",
    "template <typename Function> \n",
    "auto pointer_lift(Function f)\n",
    "{    \n",
    "    return [f](auto* item) {    ①\n",
    "        if (item) {    ①\n",
    "            f(*item);    ①\n",
    "        }    ①\n",
    "                           };    ①\n",
    "}\n",
    "\n",
    "// This function allows collection references of any type to be used.\n",
    "template <typename Function>\n",
    "auto collection_lift(Function f)\n",
    "{    \n",
    "    return [f](auto& items) {    ②\n",
    "        for (auto& item : items) {    ②\n",
    "            f(item);    ②          \n",
    "        }    ②\n",
    "    };    ②\n",
    "}"
   ]
  },
  {
   "cell_type": "markdown",
   "metadata": {},
   "source": [
    "# This technique can be applied to any type, allowing the simplest case possible to be implemented and then lifted to the structure where it will be used.\n",
    "# Lifting a lambda:"
   ]
  },
  {
   "cell_type": "code",
   "execution_count": null,
   "metadata": {},
   "outputs": [],
   "source": [
    "// Initializes type C to be the type of the collection, P1 to be \n",
    "// the type of the first item in a pair coming from the source \n",
    "// collection (with const removed), and P2 to be the type of \n",
    "// second item in the pair\n",
    "template <    \n",
    "    typename C,    ①\n",
    "     typename P1 = typename std::remove_cv<    ①\n",
    "        typename C::value_type::first_type>::type,    ①\n",
    "     typename P2 = typename C::value_type::second_type    ①\n",
    "    >\n",
    "    \n",
    "std::vector<std::pair<P2, P1>> reverse_pairs(const C& items)\n",
    "{    \n",
    "    std::vector<std::pair<P2, P1>> result(items.size());\n",
    "\n",
    "    // Passes a lambda that reverses values in a single pair to \n",
    "    // std::transform, and lifts it to a new function that can perform \n",
    "    // the same task but on multiple items in a collection\n",
    "    std::transform(    ②\n",
    "        std::begin(items), std::end(items),    ②\n",
    "        std::begin(result),    ② \n",
    "        [](const std::pair<const P1, P2>& p)    ②   \n",
    "        {    ②   \n",
    "            return std::make_pair(p.second, p.first);   ② \n",
    "        }    ②      \n",
    "    );    \n",
    "    \n",
    "    return result;\n",
    "    \n",
    "}"
   ]
  },
  {
   "cell_type": "markdown",
   "metadata": {},
   "source": [
    "# Lifts a function that takes a pair of values of a particular type, to work on an arbitrary collection of pairs.\n",
    "# Lifting allows you to easily implement these functions when they just need to pass the torch on to a function that operates on the underlying type."
   ]
  },
  {
   "cell_type": "markdown",
   "metadata": {},
   "source": [
    "## Time permitting: Using the Xeus-Cling Jupyter docker image and mybinder.org"
   ]
  },
  {
   "cell_type": "markdown",
   "metadata": {},
   "source": [
    "### https://github.com/airbrain-org/xeus-cling/blob/master/README2.md"
   ]
  },
  {
   "cell_type": "markdown",
   "metadata": {},
   "source": [
    "### https://mybinder.org\n",
    "### https://mybinder.org/v2/gh/QuantStack/xeus-cling/stable?filepath=notebooks/xcpp.ipynb"
   ]
  },
  {
   "cell_type": "code",
   "execution_count": null,
   "metadata": {},
   "outputs": [],
   "source": []
  }
 ],
 "metadata": {
  "kernelspec": {
   "display_name": "C++14",
   "language": "C++14",
   "name": "xeus-cling-cpp14"
  },
  "language_info": {
   "codemirror_mode": "text/x-c++src",
   "file_extension": ".cpp",
   "mimetype": "text/x-c++src",
   "name": "c++",
   "version": "-std=c++14"
  }
 },
 "nbformat": 4,
 "nbformat_minor": 2
}
